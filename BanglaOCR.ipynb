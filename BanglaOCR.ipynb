{
  "nbformat": 4,
  "nbformat_minor": 0,
  "metadata": {
    "colab": {
      "name": "BanglaOCR",
      "version": "0.3.2",
      "provenance": [],
      "collapsed_sections": [],
      "include_colab_link": true
    },
    "kernelspec": {
      "name": "python3",
      "display_name": "Python 3"
    },
    "accelerator": "GPU"
  },
  "cells": [
    {
      "cell_type": "markdown",
      "metadata": {
        "id": "view-in-github",
        "colab_type": "text"
      },
      "source": [
        "<a href=\"https://colab.research.google.com/github/AbhilashPal/BanglaOCR/blob/master/BanglaOCR.ipynb\" target=\"_parent\"><img src=\"https://colab.research.google.com/assets/colab-badge.svg\" alt=\"Open In Colab\"/></a>"
      ]
    },
    {
      "cell_type": "code",
      "metadata": {
        "id": "o0VuhBG3Dmx1",
        "colab_type": "code",
        "outputId": "be48f258-6680-4c2e-8cab-38b09ca00d25",
        "colab": {
          "resources": {
            "http://localhost:8080/nbextensions/google.colab/files.js": {
              "data": "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",
              "ok": true,
              "headers": [
                [
                  "content-type",
                  "application/javascript"
                ]
              ],
              "status": 200,
              "status_text": ""
            }
          },
          "base_uri": "https://localhost:8080/",
          "height": 74
        }
      },
      "source": [
        "from google.colab import files\n",
        "files.upload()\n"
      ],
      "execution_count": 0,
      "outputs": [
        {
          "output_type": "display_data",
          "data": {
            "text/html": [
              "\n",
              "     <input type=\"file\" id=\"files-900f37d5-d33f-4ee1-a5bb-0f3eaeeec091\" name=\"files[]\" multiple disabled />\n",
              "     <output id=\"result-900f37d5-d33f-4ee1-a5bb-0f3eaeeec091\">\n",
              "      Upload widget is only available when the cell has been executed in the\n",
              "      current browser session. Please rerun this cell to enable.\n",
              "      </output>\n",
              "      <script src=\"/nbextensions/google.colab/files.js\"></script> "
            ],
            "text/plain": [
              "<IPython.core.display.HTML object>"
            ]
          },
          "metadata": {
            "tags": []
          }
        },
        {
          "output_type": "stream",
          "text": [
            "Saving FinalSolution.npy to FinalSolution (1).npy\n"
          ],
          "name": "stdout"
        }
      ]
    },
    {
      "cell_type": "code",
      "metadata": {
        "id": "qHzGBdEsF1m4",
        "colab_type": "code",
        "outputId": "28dc8499-878a-4a6b-aa73-fd289d95bec2",
        "colab": {
          "base_uri": "https://localhost:8080/",
          "height": 151
        }
      },
      "source": [
        "!pip install bijoy2unicode"
      ],
      "execution_count": 0,
      "outputs": [
        {
          "output_type": "stream",
          "text": [
            "Collecting bijoy2unicode\n",
            "  Downloading https://files.pythonhosted.org/packages/81/8e/8c2ec4f8754acf824e953b502d9c7489120ef1713c1582e04faa9c4e5236/bijoy2unicode-0.1.1.tar.gz\n",
            "Building wheels for collected packages: bijoy2unicode\n",
            "  Building wheel for bijoy2unicode (setup.py) ... \u001b[?25l\u001b[?25hdone\n",
            "  Stored in directory: /root/.cache/pip/wheels/4d/2c/e1/e7812042b0f07bdb7e14624f89d40b8387058bbd6ca9d8eb81\n",
            "Successfully built bijoy2unicode\n",
            "Installing collected packages: bijoy2unicode\n",
            "Successfully installed bijoy2unicode-0.1.1\n"
          ],
          "name": "stdout"
        }
      ]
    },
    {
      "cell_type": "code",
      "metadata": {
        "id": "DvXda-SBF1qy",
        "colab_type": "code",
        "outputId": "a653d59f-cf53-4aa8-aec1-5be95c872e08",
        "colab": {
          "base_uri": "https://localhost:8080/",
          "height": 50
        }
      },
      "source": [
        "!ls"
      ],
      "execution_count": 0,
      "outputs": [
        {
          "output_type": "stream",
          "text": [
            "'FinalSolution (1).npy'  'my_model200 (1).h5'   sample_data\n",
            " FinalSolution.npy\t  my_model3.h5\n"
          ],
          "name": "stdout"
        }
      ]
    },
    {
      "cell_type": "code",
      "metadata": {
        "id": "giNxiIuuF8bH",
        "colab_type": "code",
        "colab": {}
      },
      "source": [
        "import random\n",
        "import matplotlib.pyplot as plt\n",
        "import numpy as np\n",
        "from sklearn.model_selection import train_test_split\n",
        "from bijoy2unicode import converter\n",
        "test = converter.Unicode()"
      ],
      "execution_count": 0,
      "outputs": []
    },
    {
      "cell_type": "code",
      "metadata": {
        "id": "24WCgP4sGhYk",
        "colab_type": "code",
        "colab": {}
      },
      "source": [
        "FSNew = np.load(\"FinalSolution.npy\",allow_pickle = True).item()"
      ],
      "execution_count": 0,
      "outputs": []
    },
    {
      "cell_type": "code",
      "metadata": {
        "id": "LPWUUaUa7hrp",
        "colab_type": "code",
        "colab": {}
      },
      "source": [
        "x_offset=45\n",
        "y_offset=5\n",
        "FSFinal = []\n",
        "for i in range(len(FSNew['x'])):\n",
        "    p = np.ones((40,300))\n",
        "    s_img = FSNew['x'][i]\n",
        "    p[y_offset:y_offset+s_img.shape[0], x_offset:x_offset+s_img.shape[1]] = s_img\n",
        "    FSFinal.append(p)"
      ],
      "execution_count": 0,
      "outputs": []
    },
    {
      "cell_type": "code",
      "metadata": {
        "id": "eC5U5_rAFyDy",
        "colab_type": "code",
        "outputId": "b49499c0-19fb-4881-cf19-ee0be13fcb44",
        "colab": {
          "base_uri": "https://localhost:8080/",
          "height": 430
        }
      },
      "source": [
        "\n",
        "ra = []\n",
        "for i in range(2):\n",
        "    ra.append(random.randint(0,300))\n",
        "for i in ra:\n",
        "    plt.imshow(FSNew['x'][i])\n",
        "#     print(FSNew['x'][i])\n",
        "    plt.show()\n",
        "    print(test.convertBijoyToUnicode(FSNew['y'][i]+\" \"))"
      ],
      "execution_count": 0,
      "outputs": [
        {
          "output_type": "display_data",
          "data": {
            "image/png": "[encoded data removed]",
            "text/plain": [
              "<Figure size 432x288 with 1 Axes>"
            ]
          },
          "metadata": {
            "tags": []
          }
        },
        {
          "output_type": "stream",
          "text": [
            "চিকিৎসকেরা \n"
          ],
          "name": "stdout"
        },
        {
          "output_type": "display_data",
          "data": {
            "image/png": "[encoded data removed]",
            "text/plain": [
              "<Figure size 432x288 with 1 Axes>"
            ]
          },
          "metadata": {
            "tags": []
          }
        },
        {
          "output_type": "stream",
          "text": [
            "রাজি \n"
          ],
          "name": "stdout"
        }
      ]
    },
    {
      "cell_type": "code",
      "metadata": {
        "id": "dlyccGR9Hhll",
        "colab_type": "code",
        "colab": {}
      },
      "source": [
        "x_offset=45\n",
        "y_offset=5\n",
        "FSFinal = []\n",
        "for i in range(len(FSNew['x'])):\n",
        "    p = np.ones((40,300))\n",
        "    s_img = FSNew['x'][i]\n",
        "    x_offset = int(150 - (s_img.shape[1]/2 ))\n",
        "    p[y_offset:y_offset+s_img.shape[0], x_offset:x_offset+s_img.shape[1]] = s_img\n",
        "    FSFinal.append(p)"
      ],
      "execution_count": 0,
      "outputs": []
    },
    {
      "cell_type": "code",
      "metadata": {
        "id": "hS6N9wRqHjtr",
        "colab_type": "code",
        "colab": {}
      },
      "source": [
        "FSNew['x'] = FSFinal"
      ],
      "execution_count": 0,
      "outputs": []
    },
    {
      "cell_type": "code",
      "metadata": {
        "id": "9V0-2BmyHmij",
        "colab_type": "code",
        "outputId": "5b1f9b4e-4ebe-4316-c2ac-40bbb26ccc82",
        "colab": {
          "base_uri": "https://localhost:8080/",
          "height": 242
        }
      },
      "source": [
        "ra = []\n",
        "for i in range(2):\n",
        "    ra.append(random.randint(0,3000))\n",
        "for i in ra:\n",
        "    plt.imshow(FSNew['x'][i])\n",
        "    plt.show()\n",
        "    print(test.convertBijoyToUnicode(FSNew['y'][i]+\" \"))\n",
        "    print(FSNew['y'][i])"
      ],
      "execution_count": 0,
      "outputs": [
        {
          "output_type": "display_data",
          "data": {
            "image/png": "[encoded data removed]",
            "text/plain": [
              "<Figure size 432x288 with 1 Axes>"
            ]
          },
          "metadata": {
            "tags": []
          }
        },
        {
          "output_type": "stream",
          "text": [
            "জানতে \n",
            "Rvb‡Z\n"
          ],
          "name": "stdout"
        },
        {
          "output_type": "display_data",
          "data": {
            "image/png": "[encoded data removed]",
            "text/plain": [
              "<Figure size 432x288 with 1 Axes>"
            ]
          },
          "metadata": {
            "tags": []
          }
        },
        {
          "output_type": "stream",
          "text": [
            "জানাতে \n",
            "Rvbv‡Z\n"
          ],
          "name": "stdout"
        }
      ]
    },
    {
      "cell_type": "code",
      "metadata": {
        "id": "3J2QoL64C4uf",
        "colab_type": "code",
        "outputId": "97013a5c-4600-46b6-a510-1a3fed015c02",
        "colab": {
          "base_uri": "https://localhost:8080/",
          "height": 34
        }
      },
      "source": [
        "len(FSNew['x'])"
      ],
      "execution_count": 0,
      "outputs": [
        {
          "output_type": "execute_result",
          "data": {
            "text/plain": [
              "4346"
            ]
          },
          "metadata": {
            "tags": []
          },
          "execution_count": 11
        }
      ]
    },
    {
      "cell_type": "code",
      "metadata": {
        "id": "2YZDDBLgDAuR",
        "colab_type": "code",
        "colab": {}
      },
      "source": [
        "tlist = FSNew['y']\n",
        "vocab = list(set(\" \".join(tlist)))\n",
        "c2i = {vocab[i]:i for i in range(len(vocab))}\n",
        "i2c = {i:vocab[i] for i in range(len(vocab))}\n",
        "  "
      ],
      "execution_count": 0,
      "outputs": []
    },
    {
      "cell_type": "code",
      "metadata": {
        "id": "efYX_pOr_ita",
        "colab_type": "code",
        "colab": {}
      },
      "source": [
        "def char2id(s):\n",
        "    r = []\n",
        "    for c in s:\n",
        "        r.append(c2i[c])\n",
        "    return(r)\n",
        "\n",
        "def id2char(i):\n",
        "    r = []\n",
        "    for c in i:\n",
        "        r.append(i2c[c])\n",
        "    return(r)\n",
        "\n",
        "def conv2ctc(d):\n",
        "    res = {\"the_input\":d['x']}\n",
        "    res['the_labels'] = []\n",
        "    res['input_length'] = []\n",
        "    res['label_length'] = []\n",
        "    res['source_str'] = []\n",
        "    ylist = d['y']\n",
        "    for i in ylist:\n",
        "        r = char2id(i)\n",
        "        ll = [len(r)]\n",
        "        labels = [len(vocab)+1] * 30\n",
        "        labels[:len(r)] = r\n",
        "        inp_leng = [30]\n",
        "        res['the_labels'].append(labels)\n",
        "        res['input_length'].append(inp_leng)\n",
        "        res['label_length'].append(ll)\n",
        "        res['source_str'].append(i)\n",
        "    return res\n",
        "        \n",
        "    "
      ],
      "execution_count": 0,
      "outputs": []
    },
    {
      "cell_type": "code",
      "metadata": {
        "id": "A1D8PgTY_lZe",
        "colab_type": "code",
        "colab": {}
      },
      "source": [
        "ctcdata = conv2ctc(FSNew)"
      ],
      "execution_count": 0,
      "outputs": []
    },
    {
      "cell_type": "code",
      "metadata": {
        "id": "SXDaUoVL7WzD",
        "colab_type": "code",
        "colab": {}
      },
      "source": [
        "def ttsplit(d):\n",
        "    X_train, X_test, y_train, y_test = train_test_split(\n",
        "    d['x'], d['y'], test_size=0.2, random_state=42)\n",
        "    return(X_train,X_test,y_train,y_test)\n",
        "\n",
        "X_train, X_test, y_train, y_test = ttsplit(FSNew)"
      ],
      "execution_count": 0,
      "outputs": []
    },
    {
      "cell_type": "code",
      "metadata": {
        "id": "W3l0BeZcHfqP",
        "colab_type": "code",
        "colab": {}
      },
      "source": [
        "FSTrain = {\"x\":X_train,\"y\":y_train}\n",
        "FSTest = {\"x\":X_test,\"y\":y_test}"
      ],
      "execution_count": 0,
      "outputs": []
    },
    {
      "cell_type": "code",
      "metadata": {
        "id": "RVv_4YCjHiTf",
        "colab_type": "code",
        "outputId": "9601345f-7a88-4f84-c001-9b1fc8c671b7",
        "colab": {
          "base_uri": "https://localhost:8080/",
          "height": 242
        }
      },
      "source": [
        "ra = []\n",
        "for i in range(2):\n",
        "    ra.append(random.randint(0,len(FSTrain['x'])))\n",
        "for i in ra:\n",
        "    plt.imshow(FSTrain['x'][i])\n",
        "    plt.show()\n",
        "    print(test.convertBijoyToUnicode(FSTrain['y'][i]+\" \"))\n",
        "    print(FSTrain['y'][i])"
      ],
      "execution_count": 0,
      "outputs": [
        {
          "output_type": "display_data",
          "data": {
            "image/png": "[encoded data removed]",
            "text/plain": [
              "<Figure size 432x288 with 1 Axes>"
            ]
          },
          "metadata": {
            "tags": []
          }
        },
        {
          "output_type": "stream",
          "text": [
            "করে \n",
            "K‡i\n"
          ],
          "name": "stdout"
        },
        {
          "output_type": "display_data",
          "data": {
            "image/png": "[encoded data removed]",
            "text/plain": [
              "<Figure size 432x288 with 1 Axes>"
            ]
          },
          "metadata": {
            "tags": []
          }
        },
        {
          "output_type": "stream",
          "text": [
            "দিতে \n",
            "w`‡Z\n"
          ],
          "name": "stdout"
        }
      ]
    },
    {
      "cell_type": "code",
      "metadata": {
        "id": "e2KTWO6oHrOH",
        "colab_type": "code",
        "colab": {}
      },
      "source": [
        "ctcTrain = conv2ctc(FSTrain)\n",
        "ctcTest = conv2ctc(FSTest)"
      ],
      "execution_count": 0,
      "outputs": []
    },
    {
      "cell_type": "code",
      "metadata": {
        "id": "mompDydoHt9N",
        "colab_type": "code",
        "colab": {}
      },
      "source": [
        "def createbatches(d,batchsize=32):\n",
        "    n = batchsize\n",
        "    batched = {}\n",
        "    for j in d:\n",
        "        final = [d[j][i * n:(i + 1) * n] for i in range((len(d[j]) + n - 1) // n )]\n",
        "        final.pop()\n",
        "        batched[j] = final\n",
        "    return batched"
      ],
      "execution_count": 0,
      "outputs": []
    },
    {
      "cell_type": "code",
      "metadata": {
        "id": "LrEA7eGFHxSD",
        "colab_type": "code",
        "colab": {}
      },
      "source": [
        "btTest = createbatches(ctcTest)\n",
        "btTrain = createbatches(ctcTrain)"
      ],
      "execution_count": 0,
      "outputs": []
    },
    {
      "cell_type": "code",
      "metadata": {
        "id": "vXCR9X_GLYZA",
        "colab_type": "code",
        "colab": {}
      },
      "source": [
        "def ffinalbtc(btc):\n",
        "  finalbtc = []\n",
        "  for i in range(len(btc[\"the_input\"])):\n",
        "      t = (\n",
        "          {\n",
        "              \"the_input\" : np.array(btc['the_input'][i]).reshape(32,300,40,1) ,\n",
        "              \"the_labels\" : np.array(btc[\"the_labels\"][0]),\n",
        "              \"input_length\" : np.array(btc[\"input_length\"][i]),\n",
        "              \"label_length\" : np.array(btc[\"label_length\"][i]),\n",
        "              \"source_str\" : btc[\"source_str\"][i]\n",
        "          },\n",
        "          {\n",
        "              'ctc':np.array([0., 0., 0., 0., 0., 0., 0., 0., 0., 0., 0., 0., 0., 0., 0., 0., 0.,\n",
        "                            0., 0., 0., 0., 0., 0., 0., 0., 0., 0., 0., 0., 0., 0., 0.])\n",
        "          }\n",
        "      )\n",
        "      finalbtc.append(t)\n",
        "  return finalbtc"
      ],
      "execution_count": 0,
      "outputs": []
    },
    {
      "cell_type": "code",
      "metadata": {
        "id": "QFifAjEyLsz-",
        "colab_type": "code",
        "colab": {}
      },
      "source": [
        "finalTrain = ffinalbtc(btTrain)\n",
        "finalTest = ffinalbtc(btTest)"
      ],
      "execution_count": 0,
      "outputs": []
    },
    {
      "cell_type": "code",
      "metadata": {
        "id": "QAbC2rJIP84O",
        "colab_type": "code",
        "outputId": "2c8f354a-9821-4f61-af64-f45737d886e2",
        "colab": {
          "base_uri": "https://localhost:8080/",
          "height": 34
        }
      },
      "source": [
        "len(finalTrain)"
      ],
      "execution_count": 0,
      "outputs": [
        {
          "output_type": "execute_result",
          "data": {
            "text/plain": [
              "108"
            ]
          },
          "metadata": {
            "tags": []
          },
          "execution_count": 23
        }
      ]
    },
    {
      "cell_type": "code",
      "metadata": {
        "id": "cfxsTycEMGov",
        "colab_type": "code",
        "outputId": "ba81f77e-2d5a-47fc-e56d-0429f4537610",
        "colab": {
          "base_uri": "https://localhost:8080/",
          "height": 1000
        }
      },
      "source": [
        "finalTrain[0]"
      ],
      "execution_count": 0,
      "outputs": [
        {
          "output_type": "execute_result",
          "data": {
            "text/plain": [
              "({'input_length': array([[30],\n",
              "         [30],\n",
              "         [30],\n",
              "         [30],\n",
              "         [30],\n",
              "         [30],\n",
              "         [30],\n",
              "         [30],\n",
              "         [30],\n",
              "         [30],\n",
              "         [30],\n",
              "         [30],\n",
              "         [30],\n",
              "         [30],\n",
              "         [30],\n",
              "         [30],\n",
              "         [30],\n",
              "         [30],\n",
              "         [30],\n",
              "         [30],\n",
              "         [30],\n",
              "         [30],\n",
              "         [30],\n",
              "         [30],\n",
              "         [30],\n",
              "         [30],\n",
              "         [30],\n",
              "         [30],\n",
              "         [30],\n",
              "         [30],\n",
              "         [30],\n",
              "         [30]]), 'label_length': array([[ 4],\n",
              "         [10],\n",
              "         [ 6],\n",
              "         [ 6],\n",
              "         [ 6],\n",
              "         [ 7],\n",
              "         [ 4],\n",
              "         [ 7],\n",
              "         [ 6],\n",
              "         [ 4],\n",
              "         [ 8],\n",
              "         [ 5],\n",
              "         [ 5],\n",
              "         [ 6],\n",
              "         [ 6],\n",
              "         [ 4],\n",
              "         [ 8],\n",
              "         [ 3],\n",
              "         [ 6],\n",
              "         [10],\n",
              "         [ 6],\n",
              "         [ 9],\n",
              "         [ 3],\n",
              "         [ 4],\n",
              "         [ 4],\n",
              "         [ 3],\n",
              "         [ 6],\n",
              "         [ 2],\n",
              "         [ 6],\n",
              "         [ 6],\n",
              "         [ 4],\n",
              "         [ 5]]), 'source_str': ['bqi&',\n",
              "   'WvK&Zv‡iiv',\n",
              "   'Rb¯^v_',\n",
              "   'Db&bqb',\n",
              "   '‡evSvB',\n",
              "   'myiK&lv',\n",
              "   '‡_‡K',\n",
              "   'nvwK‡gi',\n",
              "   'gvgjvi',\n",
              "   'wZwb',\n",
              "   'Av‡jvW়b',\n",
              "   '_vK‡j',\n",
              "   'msmvi',\n",
              "   'kyµevi',\n",
              "   '‡fv‡Ui',\n",
              "   'Zvui',\n",
              "   '‡Q‡j‡g‡q',\n",
              "   'K‡i',\n",
              "   'Zvu‡`i',\n",
              "   'wPwKrmK‡`i',\n",
              "   'GKvb&Z',\n",
              "   'gyL¨gb&Îx',\n",
              "   'n‡Z',\n",
              "   'K‡ib',\n",
              "   'Ki‡e',\n",
              "   '‡mB',\n",
              "   'Rywbqi',\n",
              "   '‡h',\n",
              "   'e‡j‡Qb',\n",
              "   'hywK&Z',\n",
              "   'e‡jb',\n",
              "   'K‡j‡R'], 'the_input': array([[[[1.],\n",
              "           [1.],\n",
              "           [1.],\n",
              "           ...,\n",
              "           [1.],\n",
              "           [1.],\n",
              "           [1.]],\n",
              "  \n",
              "          [[1.],\n",
              "           [1.],\n",
              "           [1.],\n",
              "           ...,\n",
              "           [1.],\n",
              "           [1.],\n",
              "           [1.]],\n",
              "  \n",
              "          [[1.],\n",
              "           [1.],\n",
              "           [1.],\n",
              "           ...,\n",
              "           [1.],\n",
              "           [1.],\n",
              "           [1.]],\n",
              "  \n",
              "          ...,\n",
              "  \n",
              "          [[1.],\n",
              "           [1.],\n",
              "           [1.],\n",
              "           ...,\n",
              "           [1.],\n",
              "           [1.],\n",
              "           [1.]],\n",
              "  \n",
              "          [[1.],\n",
              "           [1.],\n",
              "           [1.],\n",
              "           ...,\n",
              "           [1.],\n",
              "           [1.],\n",
              "           [1.]],\n",
              "  \n",
              "          [[1.],\n",
              "           [1.],\n",
              "           [1.],\n",
              "           ...,\n",
              "           [1.],\n",
              "           [1.],\n",
              "           [1.]]],\n",
              "  \n",
              "  \n",
              "         [[[1.],\n",
              "           [1.],\n",
              "           [1.],\n",
              "           ...,\n",
              "           [1.],\n",
              "           [1.],\n",
              "           [1.]],\n",
              "  \n",
              "          [[1.],\n",
              "           [1.],\n",
              "           [1.],\n",
              "           ...,\n",
              "           [1.],\n",
              "           [1.],\n",
              "           [1.]],\n",
              "  \n",
              "          [[1.],\n",
              "           [1.],\n",
              "           [1.],\n",
              "           ...,\n",
              "           [1.],\n",
              "           [1.],\n",
              "           [1.]],\n",
              "  \n",
              "          ...,\n",
              "  \n",
              "          [[1.],\n",
              "           [1.],\n",
              "           [1.],\n",
              "           ...,\n",
              "           [1.],\n",
              "           [1.],\n",
              "           [1.]],\n",
              "  \n",
              "          [[1.],\n",
              "           [1.],\n",
              "           [1.],\n",
              "           ...,\n",
              "           [1.],\n",
              "           [1.],\n",
              "           [1.]],\n",
              "  \n",
              "          [[1.],\n",
              "           [1.],\n",
              "           [1.],\n",
              "           ...,\n",
              "           [1.],\n",
              "           [1.],\n",
              "           [1.]]],\n",
              "  \n",
              "  \n",
              "         [[[1.],\n",
              "           [1.],\n",
              "           [1.],\n",
              "           ...,\n",
              "           [1.],\n",
              "           [1.],\n",
              "           [1.]],\n",
              "  \n",
              "          [[1.],\n",
              "           [1.],\n",
              "           [1.],\n",
              "           ...,\n",
              "           [1.],\n",
              "           [1.],\n",
              "           [1.]],\n",
              "  \n",
              "          [[1.],\n",
              "           [1.],\n",
              "           [1.],\n",
              "           ...,\n",
              "           [1.],\n",
              "           [1.],\n",
              "           [1.]],\n",
              "  \n",
              "          ...,\n",
              "  \n",
              "          [[1.],\n",
              "           [1.],\n",
              "           [1.],\n",
              "           ...,\n",
              "           [1.],\n",
              "           [1.],\n",
              "           [1.]],\n",
              "  \n",
              "          [[1.],\n",
              "           [1.],\n",
              "           [1.],\n",
              "           ...,\n",
              "           [1.],\n",
              "           [1.],\n",
              "           [1.]],\n",
              "  \n",
              "          [[1.],\n",
              "           [1.],\n",
              "           [1.],\n",
              "           ...,\n",
              "           [1.],\n",
              "           [1.],\n",
              "           [1.]]],\n",
              "  \n",
              "  \n",
              "         ...,\n",
              "  \n",
              "  \n",
              "         [[[1.],\n",
              "           [1.],\n",
              "           [1.],\n",
              "           ...,\n",
              "           [1.],\n",
              "           [1.],\n",
              "           [1.]],\n",
              "  \n",
              "          [[1.],\n",
              "           [1.],\n",
              "           [1.],\n",
              "           ...,\n",
              "           [1.],\n",
              "           [1.],\n",
              "           [1.]],\n",
              "  \n",
              "          [[1.],\n",
              "           [1.],\n",
              "           [1.],\n",
              "           ...,\n",
              "           [1.],\n",
              "           [1.],\n",
              "           [1.]],\n",
              "  \n",
              "          ...,\n",
              "  \n",
              "          [[1.],\n",
              "           [1.],\n",
              "           [1.],\n",
              "           ...,\n",
              "           [1.],\n",
              "           [1.],\n",
              "           [1.]],\n",
              "  \n",
              "          [[1.],\n",
              "           [1.],\n",
              "           [1.],\n",
              "           ...,\n",
              "           [1.],\n",
              "           [1.],\n",
              "           [1.]],\n",
              "  \n",
              "          [[1.],\n",
              "           [1.],\n",
              "           [1.],\n",
              "           ...,\n",
              "           [1.],\n",
              "           [1.],\n",
              "           [1.]]],\n",
              "  \n",
              "  \n",
              "         [[[1.],\n",
              "           [1.],\n",
              "           [1.],\n",
              "           ...,\n",
              "           [1.],\n",
              "           [1.],\n",
              "           [1.]],\n",
              "  \n",
              "          [[1.],\n",
              "           [1.],\n",
              "           [1.],\n",
              "           ...,\n",
              "           [1.],\n",
              "           [1.],\n",
              "           [1.]],\n",
              "  \n",
              "          [[1.],\n",
              "           [1.],\n",
              "           [1.],\n",
              "           ...,\n",
              "           [1.],\n",
              "           [1.],\n",
              "           [1.]],\n",
              "  \n",
              "          ...,\n",
              "  \n",
              "          [[1.],\n",
              "           [1.],\n",
              "           [1.],\n",
              "           ...,\n",
              "           [1.],\n",
              "           [1.],\n",
              "           [1.]],\n",
              "  \n",
              "          [[1.],\n",
              "           [1.],\n",
              "           [1.],\n",
              "           ...,\n",
              "           [1.],\n",
              "           [1.],\n",
              "           [1.]],\n",
              "  \n",
              "          [[1.],\n",
              "           [1.],\n",
              "           [1.],\n",
              "           ...,\n",
              "           [1.],\n",
              "           [1.],\n",
              "           [1.]]],\n",
              "  \n",
              "  \n",
              "         [[[1.],\n",
              "           [1.],\n",
              "           [1.],\n",
              "           ...,\n",
              "           [1.],\n",
              "           [1.],\n",
              "           [1.]],\n",
              "  \n",
              "          [[1.],\n",
              "           [1.],\n",
              "           [1.],\n",
              "           ...,\n",
              "           [1.],\n",
              "           [1.],\n",
              "           [1.]],\n",
              "  \n",
              "          [[1.],\n",
              "           [1.],\n",
              "           [1.],\n",
              "           ...,\n",
              "           [1.],\n",
              "           [1.],\n",
              "           [1.]],\n",
              "  \n",
              "          ...,\n",
              "  \n",
              "          [[1.],\n",
              "           [1.],\n",
              "           [1.],\n",
              "           ...,\n",
              "           [1.],\n",
              "           [1.],\n",
              "           [1.]],\n",
              "  \n",
              "          [[1.],\n",
              "           [1.],\n",
              "           [1.],\n",
              "           ...,\n",
              "           [1.],\n",
              "           [1.],\n",
              "           [1.]],\n",
              "  \n",
              "          [[1.],\n",
              "           [1.],\n",
              "           [1.],\n",
              "           ...,\n",
              "           [1.],\n",
              "           [1.],\n",
              "           [1.]]]]), 'the_labels': array([[ 6, 22, 50, 12, 84, 84, 84, 84, 84, 84, 84, 84, 84, 84, 84, 84,\n",
              "          84, 84, 84, 84, 84, 84, 84, 84, 84, 84, 84, 84, 84, 84],\n",
              "         [34, 17, 31, 12, 80, 17, 36, 50, 50, 17, 84, 84, 84, 84, 84, 84,\n",
              "          84, 84, 84, 84, 84, 84, 84, 84, 84, 84, 84, 84, 84, 84],\n",
              "         [79,  6, 52, 37, 17, 10, 84, 84, 84, 84, 84, 84, 84, 84, 84, 84,\n",
              "          84, 84, 84, 84, 84, 84, 84, 84, 84, 84, 84, 84, 84, 84],\n",
              "         [82,  6, 12,  6, 22,  6, 84, 84, 84, 84, 84, 84, 84, 84, 84, 84,\n",
              "          84, 84, 84, 84, 84, 84, 84, 84, 84, 84, 84, 84, 84, 84],\n",
              "         [36, 20, 17, 64, 17, 75, 84, 84, 84, 84, 84, 84, 84, 84, 84, 84,\n",
              "          84, 84, 84, 84, 84, 84, 84, 84, 84, 84, 84, 84, 84, 84],\n",
              "         [69, 26, 50, 31, 12, 53, 17, 84, 84, 84, 84, 84, 84, 84, 84, 84,\n",
              "          84, 84, 84, 84, 84, 84, 84, 84, 84, 84, 84, 84, 84, 84],\n",
              "         [36, 10, 36, 31, 84, 84, 84, 84, 84, 84, 84, 84, 84, 84, 84, 84,\n",
              "          84, 84, 84, 84, 84, 84, 84, 84, 84, 84, 84, 84, 84, 84],\n",
              "         [16, 17, 21, 31, 36,  2, 50, 84, 84, 84, 84, 84, 84, 84, 84, 84,\n",
              "          84, 84, 84, 84, 84, 84, 84, 84, 84, 84, 84, 84, 84, 84],\n",
              "         [ 2, 17,  2,  8, 17, 50, 84, 84, 84, 84, 84, 84, 84, 84, 84, 84,\n",
              "          84, 84, 84, 84, 84, 84, 84, 84, 84, 84, 84, 84, 84, 84],\n",
              "         [21, 80, 21,  6, 84, 84, 84, 84, 84, 84, 84, 84, 84, 84, 84, 84,\n",
              "          84, 84, 84, 84, 84, 84, 84, 84, 84, 84, 84, 84, 84, 84],\n",
              "         [61, 17, 36,  8, 17, 34,  3,  6, 84, 84, 84, 84, 84, 84, 84, 84,\n",
              "          84, 84, 84, 84, 84, 84, 84, 84, 84, 84, 84, 84, 84, 84],\n",
              "         [10, 17, 31, 36,  8, 84, 84, 84, 84, 84, 84, 84, 84, 84, 84, 84,\n",
              "          84, 84, 84, 84, 84, 84, 84, 84, 84, 84, 84, 84, 84, 84],\n",
              "         [69, 62, 69, 17, 50, 84, 84, 84, 84, 84, 84, 84, 84, 84, 84, 84,\n",
              "          84, 84, 84, 84, 84, 84, 84, 84, 84, 84, 84, 84, 84, 84],\n",
              "         [14, 26, 47, 20, 17, 50, 84, 84, 84, 84, 84, 84, 84, 84, 84, 84,\n",
              "          84, 84, 84, 84, 84, 84, 84, 84, 84, 84, 84, 84, 84, 84],\n",
              "         [36, 71, 17, 36, 28, 50, 84, 84, 84, 84, 84, 84, 84, 84, 84, 84,\n",
              "          84, 84, 84, 84, 84, 84, 84, 84, 84, 84, 84, 84, 84, 84],\n",
              "         [80, 17,  5, 50, 84, 84, 84, 84, 84, 84, 84, 84, 84, 84, 84, 84,\n",
              "          84, 84, 84, 84, 84, 84, 84, 84, 84, 84, 84, 84, 84, 84],\n",
              "         [36, 23, 36,  8, 36,  2, 36, 22, 84, 84, 84, 84, 84, 84, 84, 84,\n",
              "          84, 84, 84, 84, 84, 84, 84, 84, 84, 84, 84, 84, 84, 84],\n",
              "         [31, 36, 50, 84, 84, 84, 84, 84, 84, 84, 84, 84, 84, 84, 84, 84,\n",
              "          84, 84, 84, 84, 84, 84, 84, 84, 84, 84, 84, 84, 84, 84],\n",
              "         [80, 17,  5, 36, 39, 50, 84, 84, 84, 84, 84, 84, 84, 84, 84, 84,\n",
              "          84, 84, 84, 84, 84, 84, 84, 84, 84, 84, 84, 84, 84, 84],\n",
              "         [21,  1, 21, 31, 40, 69, 31, 36, 39, 50, 84, 84, 84, 84, 84, 84,\n",
              "          84, 84, 84, 84, 84, 84, 84, 84, 84, 84, 84, 84, 84, 84],\n",
              "         [13, 31, 17,  6, 12, 80, 84, 84, 84, 84, 84, 84, 84, 84, 84, 84,\n",
              "          84, 84, 84, 84, 84, 84, 84, 84, 84, 84, 84, 84, 84, 84],\n",
              "         [ 2, 26, 81, 66,  2,  6, 12, 56, 32, 84, 84, 84, 84, 84, 84, 84,\n",
              "          84, 84, 84, 84, 84, 84, 84, 84, 84, 84, 84, 84, 84, 84],\n",
              "         [16, 36, 80, 84, 84, 84, 84, 84, 84, 84, 84, 84, 84, 84, 84, 84,\n",
              "          84, 84, 84, 84, 84, 84, 84, 84, 84, 84, 84, 84, 84, 84],\n",
              "         [31, 36, 50,  6, 84, 84, 84, 84, 84, 84, 84, 84, 84, 84, 84, 84,\n",
              "          84, 84, 84, 84, 84, 84, 84, 84, 84, 84, 84, 84, 84, 84],\n",
              "         [31, 50, 36, 20, 84, 84, 84, 84, 84, 84, 84, 84, 84, 84, 84, 84,\n",
              "          84, 84, 84, 84, 84, 84, 84, 84, 84, 84, 84, 84, 84, 84],\n",
              "         [36, 69, 75, 84, 84, 84, 84, 84, 84, 84, 84, 84, 84, 84, 84, 84,\n",
              "          84, 84, 84, 84, 84, 84, 84, 84, 84, 84, 84, 84, 84, 84],\n",
              "         [79, 26, 21,  6, 22, 50, 84, 84, 84, 84, 84, 84, 84, 84, 84, 84,\n",
              "          84, 84, 84, 84, 84, 84, 84, 84, 84, 84, 84, 84, 84, 84],\n",
              "         [36, 24, 84, 84, 84, 84, 84, 84, 84, 84, 84, 84, 84, 84, 84, 84,\n",
              "          84, 84, 84, 84, 84, 84, 84, 84, 84, 84, 84, 84, 84, 84],\n",
              "         [20, 36,  8, 36, 23,  6, 84, 84, 84, 84, 84, 84, 84, 84, 84, 84,\n",
              "          84, 84, 84, 84, 84, 84, 84, 84, 84, 84, 84, 84, 84, 84],\n",
              "         [24, 26, 21, 31, 12, 80, 84, 84, 84, 84, 84, 84, 84, 84, 84, 84,\n",
              "          84, 84, 84, 84, 84, 84, 84, 84, 84, 84, 84, 84, 84, 84],\n",
              "         [20, 36,  8,  6, 84, 84, 84, 84, 84, 84, 84, 84, 84, 84, 84, 84,\n",
              "          84, 84, 84, 84, 84, 84, 84, 84, 84, 84, 84, 84, 84, 84],\n",
              "         [31, 36,  8, 36, 79, 84, 84, 84, 84, 84, 84, 84, 84, 84, 84, 84,\n",
              "          84, 84, 84, 84, 84, 84, 84, 84, 84, 84, 84, 84, 84, 84]])},\n",
              " {'ctc': array([0., 0., 0., 0., 0., 0., 0., 0., 0., 0., 0., 0., 0., 0., 0., 0., 0.,\n",
              "         0., 0., 0., 0., 0., 0., 0., 0., 0., 0., 0., 0., 0., 0., 0.])})"
            ]
          },
          "metadata": {
            "tags": []
          },
          "execution_count": 37
        }
      ]
    },
    {
      "cell_type": "code",
      "metadata": {
        "id": "Ddv2WotwDkj3",
        "colab_type": "code",
        "outputId": "a476ea5c-4033-422b-af11-aa4f688c2699",
        "colab": {
          "base_uri": "https://localhost:8080/",
          "height": 34
        }
      },
      "source": [
        "import os\n",
        "import itertools\n",
        "import codecs\n",
        "import re\n",
        "import datetime\n",
        "from keras.models import load_model\n",
        "import editdistance\n",
        "import numpy as np\n",
        "from scipy import ndimage\n",
        "# import pylab\n",
        "import matplotlib.pyplot as plt\n",
        "from keras import backend as K\n",
        "from keras.layers.convolutional import Conv2D, MaxPooling2D\n",
        "from keras.layers import Input, Dense, Activation\n",
        "from keras.layers import Reshape, Lambda\n",
        "from keras.layers.merge import add, concatenate\n",
        "from keras.models import Model\n",
        "from keras.layers.recurrent import GRU\n",
        "from keras.optimizers import SGD\n",
        "from keras.utils.data_utils import get_file\n",
        "from keras.preprocessing import image\n",
        "import keras.callbacks"
      ],
      "execution_count": 0,
      "outputs": [
        {
          "output_type": "stream",
          "text": [
            "Using TensorFlow backend.\n"
          ],
          "name": "stderr"
        }
      ]
    },
    {
      "cell_type": "code",
      "metadata": {
        "id": "XhLkIEN4IedD",
        "colab_type": "code",
        "colab": {}
      },
      "source": [
        "m = FSNew['x']\n",
        "n = FSNew['y']"
      ],
      "execution_count": 0,
      "outputs": []
    },
    {
      "cell_type": "markdown",
      "metadata": {
        "id": "UBa4Z6t5L4PV",
        "colab_type": "text"
      },
      "source": [
        "Converting strings to one hot encoding."
      ]
    },
    {
      "cell_type": "code",
      "metadata": {
        "id": "v4iXlFiYDk_c",
        "colab_type": "code",
        "colab": {}
      },
      "source": [
        "def data_gen():\n",
        "  while True:\n",
        "    for i in finalTrain:\n",
        "        yield i\n",
        "\n",
        "    \n",
        "def val_gen():\n",
        "  while True:\n",
        "    for x in finalTest:\n",
        "        yield x\n",
        "    \n",
        "# the actual loss calc occurs here despite it not being\n",
        "# an internal Keras loss function\n",
        "\n",
        "def ctc_lambda_func(args):\n",
        "    y_pred, labels, input_length, label_length = args\n",
        "    # the 2 is critical here since the first couple outputs of the RNN\n",
        "    # tend to be garbage:\n",
        "    y_pred = y_pred[:, 2:, :]\n",
        "    return K.ctc_batch_cost(labels, y_pred, input_length, label_length)\n",
        "\n",
        "\n",
        "# For a real OCR application, this should be beam search with a dictionary\n",
        "# and language model.  For this example, best path is sufficient.\n",
        "\n",
        "def decode_batch(test_func, word_batch):\n",
        "    out = test_func([word_batch])[0]\n",
        "    ret = []\n",
        "    for j in range(out.shape[0]):\n",
        "        out_best = list(np.argmax(out[j, 2:], 1))\n",
        "        out_best = [k for k, g in itertools.groupby(out_best)]\n",
        "        outstr = labels_to_text(out_best)\n",
        "        ret.append(outstr)\n",
        "    return ret\n"
      ],
      "execution_count": 0,
      "outputs": []
    },
    {
      "cell_type": "code",
      "metadata": {
        "id": "ViTjTaQaDpKI",
        "colab_type": "code",
        "outputId": "4bd68c06-791e-498d-fde3-ce38f6993b37",
        "colab": {
          "base_uri": "https://localhost:8080/",
          "height": 672
        }
      },
      "source": [
        "\n",
        "# Input Parameters\n",
        "img_w = 300\n",
        "img_h = 40\n",
        "words_per_epoch = 16000\n",
        "val_split = 0.2\n",
        "val_words = int(words_per_epoch * (val_split))\n",
        "\n",
        "# Network parameters\n",
        "conv_filters = 16\n",
        "kernel_size = (3, 3)\n",
        "pool_size = 2\n",
        "time_dense_size = 32\n",
        "rnn_size = 512\n",
        "minibatch_size = 32\n",
        "\n",
        "\n",
        "OutputSize = 84\n",
        "absolute_max_string_len = 30\n",
        "start_epoch = 0\n",
        "stop_epoch = 10\n",
        "\n",
        "if K.image_data_format() == 'channels_first':\n",
        "    input_shape = (1, img_w, img_h)\n",
        "else:\n",
        "    input_shape = (img_w, img_h, 1)\n",
        "\n",
        "\n",
        "\n",
        "\n",
        "# Model\n",
        "\n",
        "\n",
        "act = 'relu'\n",
        "input_data = Input(name='the_input', shape=input_shape, dtype='float32')\n",
        "inner = Conv2D(conv_filters, kernel_size, padding='same',\n",
        "               activation=act, kernel_initializer='he_normal',\n",
        "               name='conv1')(input_data)\n",
        "inner = MaxPooling2D(pool_size=(pool_size, pool_size), name='max1')(inner)\n",
        "inner = Conv2D(conv_filters, kernel_size, padding='same',\n",
        "               activation=act, kernel_initializer='he_normal',\n",
        "               name='conv2')(inner)\n",
        "inner = MaxPooling2D(pool_size=(pool_size, pool_size), name='max2')(inner)\n",
        "\n",
        "conv_to_rnn_dims = (img_w // (pool_size ** 2), (img_h // (pool_size ** 2)) * conv_filters)\n",
        "inner = Reshape(target_shape=conv_to_rnn_dims, name='reshape')(inner)\n",
        "\n",
        "# cuts down input size going into RNN:\n",
        "inner = Dense(time_dense_size, activation=act, name='dense1')(inner)\n",
        "\n",
        "# Two layers of bidirectional GRUs\n",
        "# GRU seems to work as well, if not better than LSTM:\n",
        "gru_1 = GRU(rnn_size, return_sequences=True, kernel_initializer='he_normal', name='gru1')(inner)\n",
        "gru_1b = GRU(rnn_size, return_sequences=True, go_backwards=True, kernel_initializer='he_normal', name='gru1_b')(inner)\n",
        "gru1_merged = add([gru_1, gru_1b])\n",
        "gru_2 = GRU(rnn_size, return_sequences=True, kernel_initializer='he_normal', name='gru2')(gru1_merged)\n",
        "gru_2b = GRU(rnn_size, return_sequences=True, go_backwards=True, kernel_initializer='he_normal', name='gru2_b')(gru1_merged)\n",
        "\n",
        "# transforms RNN output to character activations:\n",
        "inner = Dense(OutputSize, kernel_initializer='he_normal',\n",
        "              name='dense2')(concatenate([gru_2, gru_2b]))\n",
        "y_pred = Activation('softmax', name='softmax')(inner)\n",
        "Model(inputs=input_data, outputs=y_pred).summary()\n",
        "\n",
        "labels = Input(name='the_labels', shape=[absolute_max_string_len], dtype='float32')\n",
        "input_length = Input(name='input_length', shape=[1], dtype='int64')\n",
        "label_length = Input(name='label_length', shape=[1], dtype='int64')\n",
        "# Keras doesn't currently support loss funcs with extra parameters\n",
        "# so CTC loss is implemented in a lambda layer\n",
        "loss_out = Lambda(ctc_lambda_func, output_shape=(1,), name='ctc')([y_pred, labels, input_length, label_length])\n",
        "\n",
        "# clipnorm seems to speeds up convergence\n",
        "sgd = SGD(lr=0.01, decay=1e-6, momentum=0.9, nesterov=True, clipnorm=5)\n",
        "\n",
        "model = Model(inputs=[input_data, labels, input_length, label_length], outputs=loss_out)\n",
        "\n",
        "# the loss calc occurs elsewhere, so use a dummy lambda func for the loss\n",
        "model.compile(loss={'ctc': lambda y_true, y_pred: y_pred}, optimizer=sgd)\n",
        "if start_epoch > 0:\n",
        "    weight_file = os.path.join(OUTPUT_DIR, os.path.join(run_name, 'weights%02d.h5' % (start_epoch - 1)))\n",
        "    model.load_weights(weight_file)\n",
        "# captures output of softmax so we can decode the output during visualization\n",
        "test_func = K.function([input_data], [y_pred])\n",
        "\n",
        "#     viz_cb = VizCallback(run_name, test_func, img_gen.next_val())\n",
        "\n",
        "\n"
      ],
      "execution_count": 0,
      "outputs": [
        {
          "output_type": "stream",
          "text": [
            "__________________________________________________________________________________________________\n",
            "Layer (type)                    Output Shape         Param #     Connected to                     \n",
            "==================================================================================================\n",
            "the_input (InputLayer)          (None, 300, 40, 1)   0                                            \n",
            "__________________________________________________________________________________________________\n",
            "conv1 (Conv2D)                  (None, 300, 40, 16)  160         the_input[0][0]                  \n",
            "__________________________________________________________________________________________________\n",
            "max1 (MaxPooling2D)             (None, 150, 20, 16)  0           conv1[0][0]                      \n",
            "__________________________________________________________________________________________________\n",
            "conv2 (Conv2D)                  (None, 150, 20, 16)  2320        max1[0][0]                       \n",
            "__________________________________________________________________________________________________\n",
            "max2 (MaxPooling2D)             (None, 75, 10, 16)   0           conv2[0][0]                      \n",
            "__________________________________________________________________________________________________\n",
            "reshape (Reshape)               (None, 75, 160)      0           max2[0][0]                       \n",
            "__________________________________________________________________________________________________\n",
            "dense1 (Dense)                  (None, 75, 32)       5152        reshape[0][0]                    \n",
            "__________________________________________________________________________________________________\n",
            "gru1 (GRU)                      (None, 75, 512)      837120      dense1[0][0]                     \n",
            "__________________________________________________________________________________________________\n",
            "gru1_b (GRU)                    (None, 75, 512)      837120      dense1[0][0]                     \n",
            "__________________________________________________________________________________________________\n",
            "add_5 (Add)                     (None, 75, 512)      0           gru1[0][0]                       \n",
            "                                                                 gru1_b[0][0]                     \n",
            "__________________________________________________________________________________________________\n",
            "gru2 (GRU)                      (None, 75, 512)      1574400     add_5[0][0]                      \n",
            "__________________________________________________________________________________________________\n",
            "gru2_b (GRU)                    (None, 75, 512)      1574400     add_5[0][0]                      \n",
            "__________________________________________________________________________________________________\n",
            "concatenate_5 (Concatenate)     (None, 75, 1024)     0           gru2[0][0]                       \n",
            "                                                                 gru2_b[0][0]                     \n",
            "__________________________________________________________________________________________________\n",
            "dense2 (Dense)                  (None, 75, 84)       86100       concatenate_5[0][0]              \n",
            "__________________________________________________________________________________________________\n",
            "softmax (Activation)            (None, 75, 84)       0           dense2[0][0]                     \n",
            "==================================================================================================\n",
            "Total params: 4,916,772\n",
            "Trainable params: 4,916,772\n",
            "Non-trainable params: 0\n",
            "__________________________________________________________________________________________________\n"
          ],
          "name": "stdout"
        }
      ]
    },
    {
      "cell_type": "code",
      "metadata": {
        "id": "G9OkZfnY7m9p",
        "colab_type": "code",
        "outputId": "23f1a8a0-6529-493a-8bd2-be3e0dcb5efb",
        "colab": {
          "base_uri": "https://localhost:8080/",
          "height": 1000
        }
      },
      "source": [
        "model.fit_generator(generator=data_gen(),\n",
        "                    steps_per_epoch=108,\n",
        "                    epochs=100,\n",
        "                    validation_data=val_gen(),\n",
        "                    validation_steps=27,\n",
        "                    initial_epoch=0)"
      ],
      "execution_count": 0,
      "outputs": [
        {
          "output_type": "stream",
          "text": [
            "Epoch 1/100\n",
            "108/108 [==============================] - 79s 729ms/step - loss: 19.3143 - val_loss: 18.1576\n",
            "Epoch 2/100\n",
            "108/108 [==============================] - 70s 650ms/step - loss: 15.5628 - val_loss: 17.9750\n",
            "Epoch 3/100\n",
            "108/108 [==============================] - 70s 651ms/step - loss: 14.8880 - val_loss: 17.7126\n",
            "Epoch 4/100\n",
            "108/108 [==============================] - 70s 650ms/step - loss: 14.4512 - val_loss: 18.0244\n",
            "Epoch 5/100\n",
            "108/108 [==============================] - 70s 650ms/step - loss: 14.1527 - val_loss: 18.3078\n",
            "Epoch 6/100\n",
            "108/108 [==============================] - 71s 655ms/step - loss: 14.0327 - val_loss: 18.3236\n",
            "Epoch 7/100\n",
            "108/108 [==============================] - 70s 652ms/step - loss: 13.9751 - val_loss: 18.6399\n",
            "Epoch 8/100\n",
            "108/108 [==============================] - 70s 651ms/step - loss: 13.8829 - val_loss: 18.8626\n",
            "Epoch 9/100\n",
            "108/108 [==============================] - 71s 653ms/step - loss: 13.7897 - val_loss: 18.8070\n",
            "Epoch 10/100\n",
            "108/108 [==============================] - 70s 651ms/step - loss: 13.6926 - val_loss: 18.3028\n",
            "Epoch 11/100\n",
            "108/108 [==============================] - 70s 651ms/step - loss: 13.5677 - val_loss: 18.6164\n",
            "Epoch 12/100\n",
            "108/108 [==============================] - 70s 651ms/step - loss: 13.4222 - val_loss: 18.6564\n",
            "Epoch 13/100\n",
            "108/108 [==============================] - 70s 650ms/step - loss: 13.3684 - val_loss: 18.5618\n",
            "Epoch 14/100\n",
            "108/108 [==============================] - 70s 649ms/step - loss: 13.2696 - val_loss: 18.5027\n",
            "Epoch 15/100\n",
            "108/108 [==============================] - 70s 647ms/step - loss: 13.2608 - val_loss: 18.6328\n",
            "Epoch 16/100\n",
            "108/108 [==============================] - 70s 647ms/step - loss: 13.2690 - val_loss: 19.0965\n",
            "Epoch 17/100\n",
            "108/108 [==============================] - 70s 647ms/step - loss: 13.1106 - val_loss: 18.6758\n",
            "Epoch 18/100\n",
            "108/108 [==============================] - 70s 648ms/step - loss: 13.1171 - val_loss: 18.4474\n",
            "Epoch 19/100\n",
            "108/108 [==============================] - 70s 647ms/step - loss: 12.9884 - val_loss: 18.5769\n",
            "Epoch 20/100\n",
            "108/108 [==============================] - 70s 648ms/step - loss: 12.8461 - val_loss: 19.2871\n",
            "Epoch 21/100\n",
            "108/108 [==============================] - 70s 648ms/step - loss: 12.8519 - val_loss: 19.1409\n",
            "Epoch 22/100\n",
            "108/108 [==============================] - 70s 647ms/step - loss: 12.7806 - val_loss: 18.7702\n",
            "Epoch 23/100\n",
            "108/108 [==============================] - 70s 647ms/step - loss: 12.7520 - val_loss: 18.8308\n",
            "Epoch 24/100\n",
            "108/108 [==============================] - 70s 646ms/step - loss: 12.7778 - val_loss: 19.0912\n",
            "Epoch 25/100\n",
            "108/108 [==============================] - 70s 650ms/step - loss: 12.7700 - val_loss: 19.2703\n",
            "Epoch 26/100\n",
            "108/108 [==============================] - 70s 647ms/step - loss: 12.6698 - val_loss: 19.2170\n",
            "Epoch 27/100\n",
            "108/108 [==============================] - 70s 649ms/step - loss: 12.6513 - val_loss: 19.1038\n",
            "Epoch 28/100\n",
            "108/108 [==============================] - 70s 646ms/step - loss: 12.6091 - val_loss: 19.3807\n",
            "Epoch 29/100\n",
            "108/108 [==============================] - 70s 647ms/step - loss: 12.6221 - val_loss: 19.6588\n",
            "Epoch 30/100\n",
            "108/108 [==============================] - 70s 649ms/step - loss: 12.5643 - val_loss: 19.4825\n",
            "Epoch 31/100\n",
            "108/108 [==============================] - 70s 647ms/step - loss: 12.5394 - val_loss: 19.5837\n",
            "Epoch 32/100\n",
            "108/108 [==============================] - 70s 649ms/step - loss: 12.4992 - val_loss: 19.6679\n",
            "Epoch 33/100\n",
            "108/108 [==============================] - 70s 648ms/step - loss: 12.4660 - val_loss: 19.6512\n",
            "Epoch 34/100\n",
            "108/108 [==============================] - 70s 651ms/step - loss: 12.4759 - val_loss: 19.8038\n",
            "Epoch 35/100\n",
            "108/108 [==============================] - 70s 649ms/step - loss: 12.4342 - val_loss: 19.6159\n",
            "Epoch 36/100\n",
            "108/108 [==============================] - 70s 649ms/step - loss: 12.4015 - val_loss: 19.7174\n",
            "Epoch 37/100\n",
            "108/108 [==============================] - 70s 648ms/step - loss: 12.4107 - val_loss: 19.4193\n",
            "Epoch 38/100\n",
            "108/108 [==============================] - 70s 650ms/step - loss: 12.4153 - val_loss: 19.5892\n",
            "Epoch 39/100\n",
            "108/108 [==============================] - 70s 649ms/step - loss: 12.3814 - val_loss: 19.5669\n",
            "Epoch 40/100\n",
            "108/108 [==============================] - 70s 648ms/step - loss: 12.3843 - val_loss: 19.4087\n",
            "Epoch 41/100\n",
            "108/108 [==============================] - 70s 648ms/step - loss: 12.3276 - val_loss: 19.7175\n",
            "Epoch 42/100\n",
            "108/108 [==============================] - 70s 647ms/step - loss: 12.3353 - val_loss: 19.9873\n",
            "Epoch 43/100\n",
            "108/108 [==============================] - 70s 649ms/step - loss: 12.3153 - val_loss: 19.8263\n",
            "Epoch 44/100\n",
            "108/108 [==============================] - 70s 648ms/step - loss: 12.3191 - val_loss: 19.7750\n",
            "Epoch 45/100\n",
            "108/108 [==============================] - 70s 649ms/step - loss: 12.3555 - val_loss: 19.6874\n",
            "Epoch 46/100\n",
            "108/108 [==============================] - 70s 647ms/step - loss: 12.3553 - val_loss: 19.7467\n",
            "Epoch 47/100\n",
            "108/108 [==============================] - 70s 650ms/step - loss: 12.3829 - val_loss: 19.5670\n",
            "Epoch 48/100\n",
            "108/108 [==============================] - 70s 649ms/step - loss: 12.3557 - val_loss: 19.7917\n",
            "Epoch 49/100\n",
            "108/108 [==============================] - 70s 649ms/step - loss: 12.3752 - val_loss: 19.9664\n",
            "Epoch 50/100\n",
            "108/108 [==============================] - 70s 648ms/step - loss: 12.2806 - val_loss: 20.0342\n",
            "Epoch 51/100\n",
            "108/108 [==============================] - 70s 650ms/step - loss: 12.3069 - val_loss: 20.0757\n",
            "Epoch 52/100\n",
            "108/108 [==============================] - 70s 647ms/step - loss: 12.2862 - val_loss: 19.9934\n",
            "Epoch 53/100\n",
            "108/108 [==============================] - 71s 654ms/step - loss: 12.2766 - val_loss: 20.1658\n",
            "Epoch 54/100\n",
            "108/108 [==============================] - 71s 658ms/step - loss: 12.2526 - val_loss: 20.0253\n",
            "Epoch 55/100\n",
            "108/108 [==============================] - 71s 659ms/step - loss: 12.2539 - val_loss: 19.8355\n",
            "Epoch 56/100\n",
            "108/108 [==============================] - 71s 661ms/step - loss: 12.2565 - val_loss: 19.4871\n",
            "Epoch 57/100\n",
            "108/108 [==============================] - 71s 659ms/step - loss: 12.3815 - val_loss: 19.4663\n",
            "Epoch 58/100\n",
            "108/108 [==============================] - 71s 662ms/step - loss: 12.4582 - val_loss: 20.0231\n",
            "Epoch 59/100\n",
            "108/108 [==============================] - 71s 659ms/step - loss: 12.3837 - val_loss: 20.2195\n",
            "Epoch 60/100\n",
            "108/108 [==============================] - 71s 660ms/step - loss: 12.5070 - val_loss: 19.3134\n",
            "Epoch 61/100\n",
            "108/108 [==============================] - 71s 660ms/step - loss: 12.8564 - val_loss: 19.8312\n",
            "Epoch 62/100\n",
            "108/108 [==============================] - 71s 659ms/step - loss: 12.9039 - val_loss: 19.3587\n",
            "Epoch 63/100\n",
            "108/108 [==============================] - 71s 654ms/step - loss: 12.5918 - val_loss: 19.5102\n",
            "Epoch 64/100\n",
            "108/108 [==============================] - 71s 660ms/step - loss: 12.5696 - val_loss: 19.6993\n",
            "Epoch 65/100\n",
            "108/108 [==============================] - 71s 660ms/step - loss: 12.4760 - val_loss: 19.7519\n",
            "Epoch 66/100\n",
            "108/108 [==============================] - 70s 653ms/step - loss: 12.2921 - val_loss: 19.8679\n",
            "Epoch 67/100\n",
            "108/108 [==============================] - 71s 654ms/step - loss: 12.2786 - val_loss: 19.6776\n",
            "Epoch 68/100\n",
            "108/108 [==============================] - 71s 655ms/step - loss: 12.2875 - val_loss: 19.8300\n",
            "Epoch 69/100\n",
            "108/108 [==============================] - 71s 655ms/step - loss: 12.2334 - val_loss: 20.1551\n",
            "Epoch 70/100\n",
            "108/108 [==============================] - 71s 655ms/step - loss: 12.1934 - val_loss: 20.4573\n",
            "Epoch 71/100\n",
            "108/108 [==============================] - 71s 654ms/step - loss: 12.1631 - val_loss: 20.5928\n",
            "Epoch 72/100\n",
            "108/108 [==============================] - 71s 654ms/step - loss: 12.0889 - val_loss: 20.5150\n",
            "Epoch 73/100\n",
            "108/108 [==============================] - 70s 651ms/step - loss: 12.0613 - val_loss: 20.6412\n",
            "Epoch 74/100\n",
            "108/108 [==============================] - 71s 654ms/step - loss: 12.1370 - val_loss: 20.4617\n",
            "Epoch 75/100\n",
            "108/108 [==============================] - 71s 654ms/step - loss: 12.0224 - val_loss: 20.2887\n",
            "Epoch 76/100\n",
            "108/108 [==============================] - 71s 653ms/step - loss: 12.2386 - val_loss: 20.2626\n",
            "Epoch 77/100\n",
            "108/108 [==============================] - 71s 657ms/step - loss: 12.0997 - val_loss: 20.4513\n",
            "Epoch 78/100\n",
            "108/108 [==============================] - 72s 663ms/step - loss: 12.1291 - val_loss: 20.2845\n",
            "Epoch 79/100\n",
            "108/108 [==============================] - 71s 661ms/step - loss: 12.0446 - val_loss: 20.3602\n",
            "Epoch 80/100\n",
            "108/108 [==============================] - 71s 662ms/step - loss: 12.1121 - val_loss: 20.3316\n",
            "Epoch 81/100\n",
            "108/108 [==============================] - 71s 660ms/step - loss: 12.1783 - val_loss: 20.3860\n",
            "Epoch 82/100\n",
            "108/108 [==============================] - 71s 660ms/step - loss: 12.0951 - val_loss: 20.5874\n",
            "Epoch 83/100\n",
            "108/108 [==============================] - 71s 660ms/step - loss: 12.0445 - val_loss: 20.9713\n",
            "Epoch 84/100\n",
            "108/108 [==============================] - 71s 662ms/step - loss: 11.9881 - val_loss: 20.6475\n",
            "Epoch 85/100\n",
            "108/108 [==============================] - 71s 659ms/step - loss: 11.9783 - val_loss: 20.5947\n",
            "Epoch 86/100\n",
            "108/108 [==============================] - 72s 663ms/step - loss: 11.9622 - val_loss: 20.8377\n",
            "Epoch 87/100\n",
            "108/108 [==============================] - 72s 662ms/step - loss: 11.9385 - val_loss: 20.8809\n",
            "Epoch 88/100\n",
            "108/108 [==============================] - 71s 659ms/step - loss: 11.9200 - val_loss: 21.0416\n",
            "Epoch 89/100\n",
            "108/108 [==============================] - 70s 650ms/step - loss: 11.8706 - val_loss: 21.0945\n",
            "Epoch 90/100\n",
            "108/108 [==============================] - 71s 654ms/step - loss: 11.8680 - val_loss: 21.0491\n",
            "Epoch 91/100\n",
            "108/108 [==============================] - 71s 655ms/step - loss: 11.8914 - val_loss: 20.9480\n",
            "Epoch 92/100\n",
            "108/108 [==============================] - 71s 655ms/step - loss: 11.8621 - val_loss: 21.3740\n",
            "Epoch 93/100\n",
            "108/108 [==============================] - 70s 653ms/step - loss: 11.8590 - val_loss: 21.3672\n",
            "Epoch 94/100\n",
            "108/108 [==============================] - 71s 655ms/step - loss: 11.8449 - val_loss: 21.1691\n",
            "Epoch 95/100\n",
            "108/108 [==============================] - 71s 659ms/step - loss: 11.8678 - val_loss: 21.1299\n",
            "Epoch 96/100\n",
            "108/108 [==============================] - 71s 660ms/step - loss: 11.9159 - val_loss: 20.7755\n",
            "Epoch 97/100\n",
            "108/108 [==============================] - 71s 658ms/step - loss: 12.0814 - val_loss: 21.0934\n",
            "Epoch 98/100\n",
            "108/108 [==============================] - 71s 658ms/step - loss: 11.9356 - val_loss: 20.9974\n",
            "Epoch 99/100\n",
            "108/108 [==============================] - 71s 659ms/step - loss: 11.9213 - val_loss: 21.3015\n",
            "Epoch 100/100\n",
            "108/108 [==============================] - 71s 660ms/step - loss: 11.9795 - val_loss: 20.8246\n"
          ],
          "name": "stdout"
        },
        {
          "output_type": "execute_result",
          "data": {
            "text/plain": [
              "<keras.callbacks.History at 0x7f59de00af60>"
            ]
          },
          "metadata": {
            "tags": []
          },
          "execution_count": 29
        }
      ]
    },
    {
      "cell_type": "code",
      "metadata": {
        "id": "sn7xkgiCpCKb",
        "colab_type": "code",
        "outputId": "32c643e6-acf0-40e6-e8d9-300efe04a816",
        "colab": {
          "base_uri": "https://localhost:8080/",
          "height": 1000
        }
      },
      "source": [
        "from keras.utils import plot_model\n",
        "plot_model(model, to_file='model.png', show_shapes=True)\n",
        "from IPython.display import Image\n",
        "Image(filename='model.png')"
      ],
      "execution_count": 0,
      "outputs": [
        {
          "output_type": "execute_result",
          "data": {
            "image/png": "[encoded data removed]",
            "text/plain": [
              "<IPython.core.display.Image object>"
            ]
          },
          "metadata": {
            "tags": []
          },
          "execution_count": 30
        }
      ]
    },
    {
      "cell_type": "code",
      "metadata": {
        "id": "3URMsAqr21WG",
        "colab_type": "code",
        "colab": {}
      },
      "source": [
        "\n",
        "\n",
        "model.save('my_model.h5')  # creates a HDF5 file 'my_model.h5'"
      ],
      "execution_count": 0,
      "outputs": []
    },
    {
      "cell_type": "code",
      "metadata": {
        "id": "Bj-eqCLi29rA",
        "colab_type": "code",
        "colab": {}
      },
      "source": [
        "files.download('my_model.h5') "
      ],
      "execution_count": 0,
      "outputs": []
    },
    {
      "cell_type": "code",
      "metadata": {
        "id": "xoWtp-jNMbvj",
        "colab_type": "code",
        "outputId": "60d1887d-2088-4475-bb08-10c1d6876bdf",
        "colab": {
          "resources": {
            "http://localhost:8080/nbextensions/google.colab/files.js": {
              "data": "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",
              "ok": true,
              "headers": [
                [
                  "content-type",
                  "application/javascript"
                ]
              ],
              "status": 200,
              "status_text": ""
            }
          },
          "base_uri": "https://localhost:8080/",
          "height": 74
        }
      },
      "source": [
        "files.upload()"
      ],
      "execution_count": 0,
      "outputs": [
        {
          "output_type": "display_data",
          "data": {
            "text/html": [
              "\n",
              "     <input type=\"file\" id=\"files-eff5a829-fcf1-4a64-9cb2-499f0970983a\" name=\"files[]\" multiple disabled />\n",
              "     <output id=\"result-eff5a829-fcf1-4a64-9cb2-499f0970983a\">\n",
              "      Upload widget is only available when the cell has been executed in the\n",
              "      current browser session. Please rerun this cell to enable.\n",
              "      </output>\n",
              "      <script src=\"/nbextensions/google.colab/files.js\"></script> "
            ],
            "text/plain": [
              "<IPython.core.display.HTML object>"
            ]
          },
          "metadata": {
            "tags": []
          }
        },
        {
          "output_type": "stream",
          "text": [
            "Saving my_model200.h5 to my_model200.h5\n"
          ],
          "name": "stdout"
        }
      ]
    },
    {
      "cell_type": "code",
      "metadata": {
        "id": "oYdSYSmrWvUT",
        "colab_type": "code",
        "colab": {}
      },
      "source": [
        "!ls"
      ],
      "execution_count": 0,
      "outputs": []
    },
    {
      "cell_type": "code",
      "metadata": {
        "id": "1D-r0qyjMsym",
        "colab_type": "code",
        "colab": {}
      },
      "source": [
        "weight_file = \"my_model3.h5\"\n",
        "# Input Parameters\n",
        "img_w = 300\n",
        "img_h = 40\n",
        "words_per_epoch = 16000\n",
        "val_split = 0.2\n",
        "val_words = int(words_per_epoch * (val_split))\n",
        "\n",
        "# Network parameters\n",
        "conv_filters = 16\n",
        "kernel_size = (3, 3)\n",
        "pool_size = 2\n",
        "time_dense_size = 32\n",
        "rnn_size = 512\n",
        "minibatch_size = 32\n",
        "\n",
        "\n",
        "OutputSize = 84\n",
        "absolute_max_string_len = 30\n",
        "start_epoch = 0\n",
        "stop_epoch = 10\n",
        "\n",
        "if K.image_data_format() == 'channels_first':\n",
        "    input_shape = (1, img_w, img_h)\n",
        "else:\n",
        "    input_shape = (img_w, img_h, 1)\n",
        "\n",
        "\n",
        "\n",
        "\n",
        "# Model\n",
        "\n",
        "\n",
        "act = 'relu'\n",
        "input_data = Input(name='the_input', shape=input_shape, dtype='float32')\n",
        "inner = Conv2D(conv_filters, kernel_size, padding='same',\n",
        "               activation=act, kernel_initializer='he_normal',\n",
        "               name='conv1')(input_data)\n",
        "inner = MaxPooling2D(pool_size=(pool_size, pool_size), name='max1')(inner)\n",
        "inner = Conv2D(conv_filters, kernel_size, padding='same',\n",
        "               activation=act, kernel_initializer='he_normal',\n",
        "               name='conv2')(inner)\n",
        "inner = MaxPooling2D(pool_size=(pool_size, pool_size), name='max2')(inner)\n",
        "\n",
        "conv_to_rnn_dims = (img_w // (pool_size ** 2), (img_h // (pool_size ** 2)) * conv_filters)\n",
        "inner = Reshape(target_shape=conv_to_rnn_dims, name='reshape')(inner)\n",
        "\n",
        "# cuts down input size going into RNN:\n",
        "inner = Dense(time_dense_size, activation=act, name='dense1')(inner)\n",
        "\n",
        "# Two layers of bidirectional GRUs\n",
        "# GRU seems to work as well, if not better than LSTM:\n",
        "gru_1 = GRU(rnn_size, return_sequences=True, kernel_initializer='he_normal', name='gru1')(inner)\n",
        "gru_1b = GRU(rnn_size, return_sequences=True, go_backwards=True, kernel_initializer='he_normal', name='gru1_b')(inner)\n",
        "gru1_merged = add([gru_1, gru_1b])\n",
        "gru_2 = GRU(rnn_size, return_sequences=True, kernel_initializer='he_normal', name='gru2')(gru1_merged)\n",
        "gru_2b = GRU(rnn_size, return_sequences=True, go_backwards=True, kernel_initializer='he_normal', name='gru2_b')(gru1_merged)\n",
        "\n",
        "# transforms RNN output to character activations:\n",
        "inner = Dense(OutputSize, kernel_initializer='he_normal',\n",
        "              name='dense2')(concatenate([gru_2, gru_2b]))\n",
        "y_pred = Activation('softmax', name='softmax')(inner)\n",
        "Model(inputs=input_data, outputs=y_pred).summary()\n",
        "\n",
        "labels = Input(name='the_labels', shape=[absolute_max_string_len], dtype='float32')\n",
        "input_length = Input(name='input_length', shape=[1], dtype='int64')\n",
        "label_length = Input(name='label_length', shape=[1], dtype='int64')\n",
        "# Keras doesn't currently support loss funcs with extra parameters\n",
        "# so CTC loss is implemented in a lambda layer\n",
        "loss_out = Lambda(ctc_lambda_func, output_shape=(1,), name='ctc')([y_pred, labels, input_length, label_length])\n",
        "\n",
        "# clipnorm seems to speeds up convergence\n",
        "sgd = SGD(lr=0.01, decay=1e-6, momentum=0.9, nesterov=True, clipnorm=5)\n",
        "\n",
        "model_ = Model(inputs=[input_data, labels, input_length, label_length], outputs=loss_out)\n",
        "\n",
        "# the loss calc occurs elsewhere, so use a dummy lambda func for the loss\n",
        "model_.compile(loss={'ctc': lambda y_true, y_pred: y_pred}, optimizer=sgd)\n",
        "model_.load_weights(weight_file)\n",
        "# captures output of softmax so we can decode the output during visualization\n",
        "test_func = K.function([input_data], [y_pred])"
      ],
      "execution_count": 0,
      "outputs": []
    },
    {
      "cell_type": "code",
      "metadata": {
        "id": "3dc2yiGaMs1e",
        "colab_type": "code",
        "colab": {}
      },
      "source": [
        "model_.fit_generator(generator=data_gen(),\n",
        "                    steps_per_epoch=108,\n",
        "                    epochs=100,\n",
        "                    validation_data=val_gen(),\n",
        "                    validation_steps=27,\n",
        "                    initial_epoch=0)"
      ],
      "execution_count": 0,
      "outputs": []
    },
    {
      "cell_type": "code",
      "metadata": {
        "id": "jvRuEk-BCunj",
        "colab_type": "code",
        "colab": {}
      },
      "source": [
        "model_.save('my_model4.h5')  # creates a HDF5 file 'my_model.h5'"
      ],
      "execution_count": 0,
      "outputs": []
    },
    {
      "cell_type": "code",
      "metadata": {
        "id": "ikgX8FYjCulM",
        "colab_type": "code",
        "colab": {}
      },
      "source": [
        "files.download('my_model4.h5') "
      ],
      "execution_count": 0,
      "outputs": []
    },
    {
      "cell_type": "code",
      "metadata": {
        "id": "ugLQxLI5CuiT",
        "colab_type": "code",
        "colab": {}
      },
      "source": [
        "model_.fit_generator(generator=data_gen(),\n",
        "                    steps_per_epoch=108,\n",
        "                    epochs=100,\n",
        "                    validation_data=val_gen(),\n",
        "                    validation_steps=27,\n",
        "                    initial_epoch=0)"
      ],
      "execution_count": 0,
      "outputs": []
    },
    {
      "cell_type": "code",
      "metadata": {
        "id": "hpAm7Rw8Cue3",
        "colab_type": "code",
        "colab": {}
      },
      "source": [
        "model_.save('my_model5.h5')  # creates a HDF5 file 'my_model.h5'\n",
        "files.download('my_model5.h5') "
      ],
      "execution_count": 0,
      "outputs": []
    },
    {
      "cell_type": "code",
      "metadata": {
        "id": "ovm1s-joekV0",
        "colab_type": "code",
        "colab": {}
      },
      "source": [
        "model_p = Model(inputs=input_data, outputs=y_pred)"
      ],
      "execution_count": 0,
      "outputs": []
    },
    {
      "cell_type": "code",
      "metadata": {
        "id": "McmdZtNrTqM8",
        "colab_type": "code",
        "colab": {}
      },
      "source": [
        "def decode_predict_ctc(out, top_paths = 1):\n",
        "    results = []\n",
        "    beam_width = 5\n",
        "    if beam_width < top_paths:\n",
        "      beam_width = top_paths\n",
        "    for i in range(top_paths):\n",
        "      lables = K.get_value(K.ctc_decode(out, input_length=np.ones(out.shape[0])*out.shape[1],\n",
        "                           greedy=False, beam_width=beam_width, top_paths=top_paths)[0][i])[0]\n",
        "#       text = labels_to_text(lables)\n",
        "      results.append(lables)\n",
        "    return results"
      ],
      "execution_count": 0,
      "outputs": []
    },
    {
      "cell_type": "code",
      "metadata": {
        "id": "dma6zeK-ZNTi",
        "colab_type": "code",
        "colab": {}
      },
      "source": [
        "img = FSTest['x'][-1]\n",
        "plt.imshow(img)"
      ],
      "execution_count": 0,
      "outputs": []
    },
    {
      "cell_type": "code",
      "metadata": {
        "id": "pgSKO8fgZbyP",
        "colab_type": "code",
        "colab": {}
      },
      "source": [
        "img = img.reshape(1,40,300)\n",
        "c = np.expand_dims(img.T, axis=0)\n",
        "c.shape"
      ],
      "execution_count": 0,
      "outputs": []
    },
    {
      "cell_type": "code",
      "metadata": {
        "id": "G_7Yu_R_Zq7-",
        "colab_type": "code",
        "colab": {}
      },
      "source": [
        "net_out_value = model_p.predict(c)"
      ],
      "execution_count": 0,
      "outputs": []
    },
    {
      "cell_type": "code",
      "metadata": {
        "id": "TcV_DVcUf4y9",
        "colab_type": "code",
        "colab": {}
      },
      "source": [
        "net_out_value"
      ],
      "execution_count": 0,
      "outputs": []
    },
    {
      "cell_type": "code",
      "metadata": {
        "id": "iNkDiPTaZ6x4",
        "colab_type": "code",
        "colab": {}
      },
      "source": [
        "pred_texts = decode_predict_ctc(net_out_value)\n",
        "pred_texts"
      ],
      "execution_count": 0,
      "outputs": []
    },
    {
      "cell_type": "code",
      "metadata": {
        "id": "7omhNOlkaL7c",
        "colab_type": "code",
        "colab": {}
      },
      "source": [
        "q = id2char(pred_texts[0])"
      ],
      "execution_count": 0,
      "outputs": []
    },
    {
      "cell_type": "code",
      "metadata": {
        "id": "QHSfC7Wub_GA",
        "colab_type": "code",
        "colab": {}
      },
      "source": [
        "plt.imshow(net_out_value[0].T, cmap='binary', interpolation='nearest')\n",
        "plt.show()"
      ],
      "execution_count": 0,
      "outputs": []
    },
    {
      "cell_type": "code",
      "metadata": {
        "id": "qput8fssgFhp",
        "colab_type": "code",
        "colab": {}
      },
      "source": [
        "q"
      ],
      "execution_count": 0,
      "outputs": []
    },
    {
      "cell_type": "code",
      "metadata": {
        "id": "9LNuMUtFXyPl",
        "colab_type": "code",
        "colab": {}
      },
      "source": [
        "m = \"\".join(q)"
      ],
      "execution_count": 0,
      "outputs": []
    },
    {
      "cell_type": "code",
      "metadata": {
        "id": "6S3Tpe8LX1LI",
        "colab_type": "code",
        "colab": {}
      },
      "source": [
        "test.convertBijoyToUnicode(m)"
      ],
      "execution_count": 0,
      "outputs": []
    },
    {
      "cell_type": "code",
      "metadata": {
        "id": "OTPSuPBZbLvn",
        "colab_type": "code",
        "colab": {}
      },
      "source": [
        "model.fit_generator(generator=data_gen(),\n",
        "                    steps_per_epoch=108,\n",
        "                    epochs=100,\n",
        "                    validation_data=val_gen(),\n",
        "                    validation_steps=27,\n",
        "                    initial_epoch=0)"
      ],
      "execution_count": 0,
      "outputs": []
    },
    {
      "cell_type": "code",
      "metadata": {
        "id": "Y8PCseFm1YYU",
        "colab_type": "code",
        "colab": {}
      },
      "source": [
        "model.save('my_model2.h5') "
      ],
      "execution_count": 0,
      "outputs": []
    },
    {
      "cell_type": "code",
      "metadata": {
        "id": "7kfVF-RN6w5S",
        "colab_type": "code",
        "colab": {}
      },
      "source": [
        "files.download('my_model2.h5') "
      ],
      "execution_count": 0,
      "outputs": []
    },
    {
      "cell_type": "code",
      "metadata": {
        "id": "Cmjp2l_G62ng",
        "colab_type": "code",
        "colab": {}
      },
      "source": [
        "model_p = Model(inputs=input_data, outputs=y_pred)"
      ],
      "execution_count": 0,
      "outputs": []
    },
    {
      "cell_type": "code",
      "metadata": {
        "id": "bILwvMjT66zV",
        "colab_type": "code",
        "colab": {}
      },
      "source": [
        "net_out_value = model_p.predict(c)\n",
        "pred_texts = decode_predict_ctc(net_out_value)\n",
        "q = id2char(pred_texts[0])"
      ],
      "execution_count": 0,
      "outputs": []
    },
    {
      "cell_type": "code",
      "metadata": {
        "id": "rmkiUkKE67JP",
        "colab_type": "code",
        "colab": {}
      },
      "source": [
        "plt.imshow(net_out_value[0].T, cmap='binary', interpolation='nearest')\n",
        "plt.show()"
      ],
      "execution_count": 0,
      "outputs": []
    },
    {
      "cell_type": "code",
      "metadata": {
        "id": "N7pNe9QK7Ct1",
        "colab_type": "code",
        "colab": {}
      },
      "source": [
        "q"
      ],
      "execution_count": 0,
      "outputs": []
    },
    {
      "cell_type": "code",
      "metadata": {
        "id": "ObA5fU827DGl",
        "colab_type": "code",
        "colab": {}
      },
      "source": [
        "m = \"\".join(q)\n",
        "test.convertBijoyToUnicode(m)"
      ],
      "execution_count": 0,
      "outputs": []
    },
    {
      "cell_type": "code",
      "metadata": {
        "id": "r7w6GmSq7Fq2",
        "colab_type": "code",
        "colab": {}
      },
      "source": [
        ""
      ],
      "execution_count": 0,
      "outputs": []
    }
  ]
}